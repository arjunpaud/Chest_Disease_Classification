{
 "cells": [
  {
   "cell_type": "code",
   "execution_count": 2,
   "metadata": {},
   "outputs": [],
   "source": [
    "import gdown"
   ]
  },
  {
   "cell_type": "code",
   "execution_count": 3,
   "metadata": {},
   "outputs": [],
   "source": [
    "url=\"https://drive.google.com/file/d/1KJwm9-esTXdWl5tkrK8TRxQns_T9vJns/view?usp=sharing\""
   ]
  },
  {
   "cell_type": "code",
   "execution_count": 4,
   "metadata": {},
   "outputs": [
    {
     "data": {
      "text/plain": [
       "str"
      ]
     },
     "execution_count": 4,
     "metadata": {},
     "output_type": "execute_result"
    }
   ],
   "source": [
    "type(url)"
   ]
  },
  {
   "cell_type": "code",
   "execution_count": 5,
   "metadata": {},
   "outputs": [],
   "source": [
    "file_id=url.split(\"/\")[-2]"
   ]
  },
  {
   "cell_type": "code",
   "execution_count": 7,
   "metadata": {},
   "outputs": [
    {
     "name": "stderr",
     "output_type": "stream",
     "text": [
      "Downloading...\n",
      "From (original): https://drive.google.com/uc?/export=download&id=1KJwm9-esTXdWl5tkrK8TRxQns_T9vJns\n",
      "From (redirected): https://drive.google.com/uc?%2Fexport=download&id=1KJwm9-esTXdWl5tkrK8TRxQns_T9vJns&confirm=t&uuid=0d310370-d41f-4a84-b71a-3f88e6eda1d0\n",
      "To: d:\\Chest_Disease_Classification\\research\\Chest_CT_Scan.zip\n",
      "100%|██████████| 65.9M/65.9M [00:03<00:00, 19.1MB/s]\n"
     ]
    },
    {
     "data": {
      "text/plain": [
       "'Chest_CT_Scan.zip'"
      ]
     },
     "execution_count": 7,
     "metadata": {},
     "output_type": "execute_result"
    }
   ],
   "source": [
    "prefix = 'https://drive.google.com/uc?/export=download&id='\n",
    "gdown.download(prefix+file_id, \"Chest_CT_Scan.zip\")"
   ]
  }
 ],
 "metadata": {
  "kernelspec": {
   "display_name": "ccancer",
   "language": "python",
   "name": "python3"
  },
  "language_info": {
   "codemirror_mode": {
    "name": "ipython",
    "version": 3
   },
   "file_extension": ".py",
   "mimetype": "text/x-python",
   "name": "python",
   "nbconvert_exporter": "python",
   "pygments_lexer": "ipython3",
   "version": "3.8.19"
  }
 },
 "nbformat": 4,
 "nbformat_minor": 2
}
